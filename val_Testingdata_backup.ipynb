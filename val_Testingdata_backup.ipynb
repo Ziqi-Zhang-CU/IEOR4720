{
 "cells": [
  {
   "cell_type": "code",
   "execution_count": 1,
   "metadata": {},
   "outputs": [],
   "source": [
    "import h5py\n",
    "import scipy.io as io\n",
    "import PIL.Image as Image\n",
    "import numpy as np\n",
    "import os\n",
    "import glob\n",
    "from matplotlib import pyplot as plt\n",
    "from scipy.ndimage.filters import gaussian_filter \n",
    "import scipy\n",
    "import json\n",
    "import torchvision.transforms.functional as F\n",
    "from matplotlib import cm as CM\n",
    "from image import *\n",
    "from model_Resnet import *\n",
    "import torch\n",
    "%matplotlib inline"
   ]
  },
  {
   "cell_type": "code",
   "execution_count": 2,
   "metadata": {},
   "outputs": [],
   "source": [
    "from torchvision import datasets, transforms\n",
    "transform=transforms.Compose([\n",
    "                       transforms.ToTensor(),transforms.Normalize(mean=[0.485, 0.456, 0.406],\n",
    "                                     std=[0.229, 0.224, 0.225]),\n",
    "                   ])"
   ]
  },
  {
   "cell_type": "code",
   "execution_count": 7,
   "metadata": {},
   "outputs": [],
   "source": [
    "root = r'/home/zz2496/Notebooks/CSRNet/shanghai/part_A_final'"
   ]
  },
  {
   "cell_type": "code",
   "execution_count": 8,
   "metadata": {},
   "outputs": [],
   "source": [
    "test = os.path.join(root,'test_data','images')\n",
    "path_sets = [test]"
   ]
  },
  {
   "cell_type": "code",
   "execution_count": 9,
   "metadata": {},
   "outputs": [],
   "source": [
    "img_paths = []\n",
    "for path in path_sets:\n",
    "    for img_path in glob.glob(os.path.join(path, '*.jpg')):\n",
    "        img_paths.append(img_path)"
   ]
  },
  {
   "cell_type": "code",
   "execution_count": 10,
   "metadata": {},
   "outputs": [
    {
     "data": {
      "text/plain": [
       "['/home/zz2496/Notebooks/CSRNet/shanghai/part_A_final/test_data/images/IMG_147.jpg',\n",
       " '/home/zz2496/Notebooks/CSRNet/shanghai/part_A_final/test_data/images/IMG_42.jpg',\n",
       " '/home/zz2496/Notebooks/CSRNet/shanghai/part_A_final/test_data/images/IMG_11.jpg',\n",
       " '/home/zz2496/Notebooks/CSRNet/shanghai/part_A_final/test_data/images/IMG_93.jpg',\n",
       " '/home/zz2496/Notebooks/CSRNet/shanghai/part_A_final/test_data/images/IMG_19.jpg',\n",
       " '/home/zz2496/Notebooks/CSRNet/shanghai/part_A_final/test_data/images/IMG_60.jpg',\n",
       " '/home/zz2496/Notebooks/CSRNet/shanghai/part_A_final/test_data/images/IMG_96.jpg',\n",
       " '/home/zz2496/Notebooks/CSRNet/shanghai/part_A_final/test_data/images/IMG_79.jpg',\n",
       " '/home/zz2496/Notebooks/CSRNet/shanghai/part_A_final/test_data/images/IMG_48.jpg',\n",
       " '/home/zz2496/Notebooks/CSRNet/shanghai/part_A_final/test_data/images/IMG_136.jpg',\n",
       " '/home/zz2496/Notebooks/CSRNet/shanghai/part_A_final/test_data/images/IMG_91.jpg',\n",
       " '/home/zz2496/Notebooks/CSRNet/shanghai/part_A_final/test_data/images/IMG_145.jpg',\n",
       " '/home/zz2496/Notebooks/CSRNet/shanghai/part_A_final/test_data/images/IMG_76.jpg',\n",
       " '/home/zz2496/Notebooks/CSRNet/shanghai/part_A_final/test_data/images/IMG_24.jpg',\n",
       " '/home/zz2496/Notebooks/CSRNet/shanghai/part_A_final/test_data/images/IMG_53.jpg',\n",
       " '/home/zz2496/Notebooks/CSRNet/shanghai/part_A_final/test_data/images/IMG_5.jpg',\n",
       " '/home/zz2496/Notebooks/CSRNet/shanghai/part_A_final/test_data/images/IMG_23.jpg',\n",
       " '/home/zz2496/Notebooks/CSRNet/shanghai/part_A_final/test_data/images/IMG_127.jpg',\n",
       " '/home/zz2496/Notebooks/CSRNet/shanghai/part_A_final/test_data/images/IMG_99.jpg',\n",
       " '/home/zz2496/Notebooks/CSRNet/shanghai/part_A_final/test_data/images/IMG_6.jpg',\n",
       " '/home/zz2496/Notebooks/CSRNet/shanghai/part_A_final/test_data/images/IMG_63.jpg',\n",
       " '/home/zz2496/Notebooks/CSRNet/shanghai/part_A_final/test_data/images/IMG_158.jpg',\n",
       " '/home/zz2496/Notebooks/CSRNet/shanghai/part_A_final/test_data/images/IMG_125.jpg',\n",
       " '/home/zz2496/Notebooks/CSRNet/shanghai/part_A_final/test_data/images/IMG_52.jpg',\n",
       " '/home/zz2496/Notebooks/CSRNet/shanghai/part_A_final/test_data/images/IMG_112.jpg',\n",
       " '/home/zz2496/Notebooks/CSRNet/shanghai/part_A_final/test_data/images/IMG_88.jpg',\n",
       " '/home/zz2496/Notebooks/CSRNet/shanghai/part_A_final/test_data/images/IMG_77.jpg',\n",
       " '/home/zz2496/Notebooks/CSRNet/shanghai/part_A_final/test_data/images/IMG_21.jpg',\n",
       " '/home/zz2496/Notebooks/CSRNet/shanghai/part_A_final/test_data/images/IMG_157.jpg',\n",
       " '/home/zz2496/Notebooks/CSRNet/shanghai/part_A_final/test_data/images/IMG_49.jpg',\n",
       " '/home/zz2496/Notebooks/CSRNet/shanghai/part_A_final/test_data/images/IMG_55.jpg',\n",
       " '/home/zz2496/Notebooks/CSRNet/shanghai/part_A_final/test_data/images/IMG_165.jpg',\n",
       " '/home/zz2496/Notebooks/CSRNet/shanghai/part_A_final/test_data/images/IMG_132.jpg',\n",
       " '/home/zz2496/Notebooks/CSRNet/shanghai/part_A_final/test_data/images/IMG_33.jpg',\n",
       " '/home/zz2496/Notebooks/CSRNet/shanghai/part_A_final/test_data/images/IMG_175.jpg',\n",
       " '/home/zz2496/Notebooks/CSRNet/shanghai/part_A_final/test_data/images/IMG_9.jpg',\n",
       " '/home/zz2496/Notebooks/CSRNet/shanghai/part_A_final/test_data/images/IMG_1.jpg',\n",
       " '/home/zz2496/Notebooks/CSRNet/shanghai/part_A_final/test_data/images/IMG_89.jpg',\n",
       " '/home/zz2496/Notebooks/CSRNet/shanghai/part_A_final/test_data/images/IMG_133.jpg',\n",
       " '/home/zz2496/Notebooks/CSRNet/shanghai/part_A_final/test_data/images/IMG_143.jpg',\n",
       " '/home/zz2496/Notebooks/CSRNet/shanghai/part_A_final/test_data/images/IMG_47.jpg',\n",
       " '/home/zz2496/Notebooks/CSRNet/shanghai/part_A_final/test_data/images/IMG_57.jpg',\n",
       " '/home/zz2496/Notebooks/CSRNet/shanghai/part_A_final/test_data/images/IMG_117.jpg',\n",
       " '/home/zz2496/Notebooks/CSRNet/shanghai/part_A_final/test_data/images/IMG_56.jpg',\n",
       " '/home/zz2496/Notebooks/CSRNet/shanghai/part_A_final/test_data/images/IMG_138.jpg',\n",
       " '/home/zz2496/Notebooks/CSRNet/shanghai/part_A_final/test_data/images/IMG_115.jpg',\n",
       " '/home/zz2496/Notebooks/CSRNet/shanghai/part_A_final/test_data/images/IMG_100.jpg',\n",
       " '/home/zz2496/Notebooks/CSRNet/shanghai/part_A_final/test_data/images/IMG_110.jpg',\n",
       " '/home/zz2496/Notebooks/CSRNet/shanghai/part_A_final/test_data/images/IMG_8.jpg',\n",
       " '/home/zz2496/Notebooks/CSRNet/shanghai/part_A_final/test_data/images/IMG_97.jpg',\n",
       " '/home/zz2496/Notebooks/CSRNet/shanghai/part_A_final/test_data/images/IMG_122.jpg',\n",
       " '/home/zz2496/Notebooks/CSRNet/shanghai/part_A_final/test_data/images/IMG_103.jpg',\n",
       " '/home/zz2496/Notebooks/CSRNet/shanghai/part_A_final/test_data/images/IMG_104.jpg',\n",
       " '/home/zz2496/Notebooks/CSRNet/shanghai/part_A_final/test_data/images/IMG_51.jpg',\n",
       " '/home/zz2496/Notebooks/CSRNet/shanghai/part_A_final/test_data/images/IMG_41.jpg',\n",
       " '/home/zz2496/Notebooks/CSRNet/shanghai/part_A_final/test_data/images/IMG_25.jpg',\n",
       " '/home/zz2496/Notebooks/CSRNet/shanghai/part_A_final/test_data/images/IMG_29.jpg',\n",
       " '/home/zz2496/Notebooks/CSRNet/shanghai/part_A_final/test_data/images/IMG_179.jpg',\n",
       " '/home/zz2496/Notebooks/CSRNet/shanghai/part_A_final/test_data/images/IMG_13.jpg',\n",
       " '/home/zz2496/Notebooks/CSRNet/shanghai/part_A_final/test_data/images/IMG_37.jpg',\n",
       " '/home/zz2496/Notebooks/CSRNet/shanghai/part_A_final/test_data/images/IMG_166.jpg',\n",
       " '/home/zz2496/Notebooks/CSRNet/shanghai/part_A_final/test_data/images/IMG_134.jpg',\n",
       " '/home/zz2496/Notebooks/CSRNet/shanghai/part_A_final/test_data/images/IMG_146.jpg',\n",
       " '/home/zz2496/Notebooks/CSRNet/shanghai/part_A_final/test_data/images/IMG_81.jpg',\n",
       " '/home/zz2496/Notebooks/CSRNet/shanghai/part_A_final/test_data/images/IMG_27.jpg',\n",
       " '/home/zz2496/Notebooks/CSRNet/shanghai/part_A_final/test_data/images/IMG_141.jpg',\n",
       " '/home/zz2496/Notebooks/CSRNet/shanghai/part_A_final/test_data/images/IMG_12.jpg',\n",
       " '/home/zz2496/Notebooks/CSRNet/shanghai/part_A_final/test_data/images/IMG_71.jpg',\n",
       " '/home/zz2496/Notebooks/CSRNet/shanghai/part_A_final/test_data/images/IMG_94.jpg',\n",
       " '/home/zz2496/Notebooks/CSRNet/shanghai/part_A_final/test_data/images/IMG_87.jpg',\n",
       " '/home/zz2496/Notebooks/CSRNet/shanghai/part_A_final/test_data/images/IMG_152.jpg',\n",
       " '/home/zz2496/Notebooks/CSRNet/shanghai/part_A_final/test_data/images/IMG_17.jpg',\n",
       " '/home/zz2496/Notebooks/CSRNet/shanghai/part_A_final/test_data/images/IMG_159.jpg',\n",
       " '/home/zz2496/Notebooks/CSRNet/shanghai/part_A_final/test_data/images/IMG_126.jpg',\n",
       " '/home/zz2496/Notebooks/CSRNet/shanghai/part_A_final/test_data/images/IMG_149.jpg',\n",
       " '/home/zz2496/Notebooks/CSRNet/shanghai/part_A_final/test_data/images/IMG_121.jpg',\n",
       " '/home/zz2496/Notebooks/CSRNet/shanghai/part_A_final/test_data/images/IMG_78.jpg',\n",
       " '/home/zz2496/Notebooks/CSRNet/shanghai/part_A_final/test_data/images/IMG_142.jpg',\n",
       " '/home/zz2496/Notebooks/CSRNet/shanghai/part_A_final/test_data/images/IMG_150.jpg',\n",
       " '/home/zz2496/Notebooks/CSRNet/shanghai/part_A_final/test_data/images/IMG_95.jpg',\n",
       " '/home/zz2496/Notebooks/CSRNet/shanghai/part_A_final/test_data/images/IMG_67.jpg',\n",
       " '/home/zz2496/Notebooks/CSRNet/shanghai/part_A_final/test_data/images/IMG_64.jpg',\n",
       " '/home/zz2496/Notebooks/CSRNet/shanghai/part_A_final/test_data/images/IMG_40.jpg',\n",
       " '/home/zz2496/Notebooks/CSRNet/shanghai/part_A_final/test_data/images/IMG_155.jpg',\n",
       " '/home/zz2496/Notebooks/CSRNet/shanghai/part_A_final/test_data/images/IMG_18.jpg',\n",
       " '/home/zz2496/Notebooks/CSRNet/shanghai/part_A_final/test_data/images/IMG_74.jpg',\n",
       " '/home/zz2496/Notebooks/CSRNet/shanghai/part_A_final/test_data/images/IMG_137.jpg',\n",
       " '/home/zz2496/Notebooks/CSRNet/shanghai/part_A_final/test_data/images/IMG_172.jpg',\n",
       " '/home/zz2496/Notebooks/CSRNet/shanghai/part_A_final/test_data/images/IMG_92.jpg',\n",
       " '/home/zz2496/Notebooks/CSRNet/shanghai/part_A_final/test_data/images/IMG_45.jpg',\n",
       " '/home/zz2496/Notebooks/CSRNet/shanghai/part_A_final/test_data/images/IMG_113.jpg',\n",
       " '/home/zz2496/Notebooks/CSRNet/shanghai/part_A_final/test_data/images/IMG_164.jpg',\n",
       " '/home/zz2496/Notebooks/CSRNet/shanghai/part_A_final/test_data/images/IMG_129.jpg',\n",
       " '/home/zz2496/Notebooks/CSRNet/shanghai/part_A_final/test_data/images/IMG_182.jpg',\n",
       " '/home/zz2496/Notebooks/CSRNet/shanghai/part_A_final/test_data/images/IMG_62.jpg',\n",
       " '/home/zz2496/Notebooks/CSRNet/shanghai/part_A_final/test_data/images/IMG_31.jpg',\n",
       " '/home/zz2496/Notebooks/CSRNet/shanghai/part_A_final/test_data/images/IMG_105.jpg',\n",
       " '/home/zz2496/Notebooks/CSRNet/shanghai/part_A_final/test_data/images/IMG_119.jpg',\n",
       " '/home/zz2496/Notebooks/CSRNet/shanghai/part_A_final/test_data/images/IMG_30.jpg',\n",
       " '/home/zz2496/Notebooks/CSRNet/shanghai/part_A_final/test_data/images/IMG_181.jpg',\n",
       " '/home/zz2496/Notebooks/CSRNet/shanghai/part_A_final/test_data/images/IMG_102.jpg',\n",
       " '/home/zz2496/Notebooks/CSRNet/shanghai/part_A_final/test_data/images/IMG_154.jpg',\n",
       " '/home/zz2496/Notebooks/CSRNet/shanghai/part_A_final/test_data/images/IMG_75.jpg',\n",
       " '/home/zz2496/Notebooks/CSRNet/shanghai/part_A_final/test_data/images/IMG_139.jpg',\n",
       " '/home/zz2496/Notebooks/CSRNet/shanghai/part_A_final/test_data/images/IMG_65.jpg',\n",
       " '/home/zz2496/Notebooks/CSRNet/shanghai/part_A_final/test_data/images/IMG_50.jpg',\n",
       " '/home/zz2496/Notebooks/CSRNet/shanghai/part_A_final/test_data/images/IMG_167.jpg',\n",
       " '/home/zz2496/Notebooks/CSRNet/shanghai/part_A_final/test_data/images/IMG_83.jpg',\n",
       " '/home/zz2496/Notebooks/CSRNet/shanghai/part_A_final/test_data/images/IMG_98.jpg',\n",
       " '/home/zz2496/Notebooks/CSRNet/shanghai/part_A_final/test_data/images/IMG_43.jpg',\n",
       " '/home/zz2496/Notebooks/CSRNet/shanghai/part_A_final/test_data/images/IMG_176.jpg',\n",
       " '/home/zz2496/Notebooks/CSRNet/shanghai/part_A_final/test_data/images/IMG_124.jpg',\n",
       " '/home/zz2496/Notebooks/CSRNet/shanghai/part_A_final/test_data/images/IMG_111.jpg',\n",
       " '/home/zz2496/Notebooks/CSRNet/shanghai/part_A_final/test_data/images/IMG_32.jpg',\n",
       " '/home/zz2496/Notebooks/CSRNet/shanghai/part_A_final/test_data/images/IMG_114.jpg',\n",
       " '/home/zz2496/Notebooks/CSRNet/shanghai/part_A_final/test_data/images/IMG_178.jpg',\n",
       " '/home/zz2496/Notebooks/CSRNet/shanghai/part_A_final/test_data/images/IMG_173.jpg',\n",
       " '/home/zz2496/Notebooks/CSRNet/shanghai/part_A_final/test_data/images/IMG_130.jpg',\n",
       " '/home/zz2496/Notebooks/CSRNet/shanghai/part_A_final/test_data/images/IMG_20.jpg',\n",
       " '/home/zz2496/Notebooks/CSRNet/shanghai/part_A_final/test_data/images/IMG_163.jpg',\n",
       " '/home/zz2496/Notebooks/CSRNet/shanghai/part_A_final/test_data/images/IMG_108.jpg',\n",
       " '/home/zz2496/Notebooks/CSRNet/shanghai/part_A_final/test_data/images/IMG_123.jpg',\n",
       " '/home/zz2496/Notebooks/CSRNet/shanghai/part_A_final/test_data/images/IMG_28.jpg',\n",
       " '/home/zz2496/Notebooks/CSRNet/shanghai/part_A_final/test_data/images/IMG_106.jpg',\n",
       " '/home/zz2496/Notebooks/CSRNet/shanghai/part_A_final/test_data/images/IMG_70.jpg',\n",
       " '/home/zz2496/Notebooks/CSRNet/shanghai/part_A_final/test_data/images/IMG_153.jpg',\n",
       " '/home/zz2496/Notebooks/CSRNet/shanghai/part_A_final/test_data/images/IMG_107.jpg',\n",
       " '/home/zz2496/Notebooks/CSRNet/shanghai/part_A_final/test_data/images/IMG_151.jpg',\n",
       " '/home/zz2496/Notebooks/CSRNet/shanghai/part_A_final/test_data/images/IMG_69.jpg',\n",
       " '/home/zz2496/Notebooks/CSRNet/shanghai/part_A_final/test_data/images/IMG_15.jpg',\n",
       " '/home/zz2496/Notebooks/CSRNet/shanghai/part_A_final/test_data/images/IMG_35.jpg',\n",
       " '/home/zz2496/Notebooks/CSRNet/shanghai/part_A_final/test_data/images/IMG_22.jpg',\n",
       " '/home/zz2496/Notebooks/CSRNet/shanghai/part_A_final/test_data/images/IMG_58.jpg',\n",
       " '/home/zz2496/Notebooks/CSRNet/shanghai/part_A_final/test_data/images/IMG_10.jpg',\n",
       " '/home/zz2496/Notebooks/CSRNet/shanghai/part_A_final/test_data/images/IMG_85.jpg',\n",
       " '/home/zz2496/Notebooks/CSRNet/shanghai/part_A_final/test_data/images/IMG_162.jpg',\n",
       " '/home/zz2496/Notebooks/CSRNet/shanghai/part_A_final/test_data/images/IMG_46.jpg',\n",
       " '/home/zz2496/Notebooks/CSRNet/shanghai/part_A_final/test_data/images/IMG_140.jpg',\n",
       " '/home/zz2496/Notebooks/CSRNet/shanghai/part_A_final/test_data/images/IMG_26.jpg',\n",
       " '/home/zz2496/Notebooks/CSRNet/shanghai/part_A_final/test_data/images/IMG_44.jpg',\n",
       " '/home/zz2496/Notebooks/CSRNet/shanghai/part_A_final/test_data/images/IMG_4.jpg',\n",
       " '/home/zz2496/Notebooks/CSRNet/shanghai/part_A_final/test_data/images/IMG_2.jpg',\n",
       " '/home/zz2496/Notebooks/CSRNet/shanghai/part_A_final/test_data/images/IMG_36.jpg',\n",
       " '/home/zz2496/Notebooks/CSRNet/shanghai/part_A_final/test_data/images/IMG_54.jpg',\n",
       " '/home/zz2496/Notebooks/CSRNet/shanghai/part_A_final/test_data/images/IMG_59.jpg',\n",
       " '/home/zz2496/Notebooks/CSRNet/shanghai/part_A_final/test_data/images/IMG_168.jpg',\n",
       " '/home/zz2496/Notebooks/CSRNet/shanghai/part_A_final/test_data/images/IMG_86.jpg',\n",
       " '/home/zz2496/Notebooks/CSRNet/shanghai/part_A_final/test_data/images/IMG_34.jpg',\n",
       " '/home/zz2496/Notebooks/CSRNet/shanghai/part_A_final/test_data/images/IMG_39.jpg',\n",
       " '/home/zz2496/Notebooks/CSRNet/shanghai/part_A_final/test_data/images/IMG_169.jpg',\n",
       " '/home/zz2496/Notebooks/CSRNet/shanghai/part_A_final/test_data/images/IMG_3.jpg',\n",
       " '/home/zz2496/Notebooks/CSRNet/shanghai/part_A_final/test_data/images/IMG_170.jpg',\n",
       " '/home/zz2496/Notebooks/CSRNet/shanghai/part_A_final/test_data/images/IMG_177.jpg',\n",
       " '/home/zz2496/Notebooks/CSRNet/shanghai/part_A_final/test_data/images/IMG_82.jpg',\n",
       " '/home/zz2496/Notebooks/CSRNet/shanghai/part_A_final/test_data/images/IMG_66.jpg',\n",
       " '/home/zz2496/Notebooks/CSRNet/shanghai/part_A_final/test_data/images/IMG_73.jpg',\n",
       " '/home/zz2496/Notebooks/CSRNet/shanghai/part_A_final/test_data/images/IMG_120.jpg',\n",
       " '/home/zz2496/Notebooks/CSRNet/shanghai/part_A_final/test_data/images/IMG_38.jpg',\n",
       " '/home/zz2496/Notebooks/CSRNet/shanghai/part_A_final/test_data/images/IMG_72.jpg',\n",
       " '/home/zz2496/Notebooks/CSRNet/shanghai/part_A_final/test_data/images/IMG_160.jpg',\n",
       " '/home/zz2496/Notebooks/CSRNet/shanghai/part_A_final/test_data/images/IMG_16.jpg',\n",
       " '/home/zz2496/Notebooks/CSRNet/shanghai/part_A_final/test_data/images/IMG_80.jpg',\n",
       " '/home/zz2496/Notebooks/CSRNet/shanghai/part_A_final/test_data/images/IMG_135.jpg',\n",
       " '/home/zz2496/Notebooks/CSRNet/shanghai/part_A_final/test_data/images/IMG_84.jpg',\n",
       " '/home/zz2496/Notebooks/CSRNet/shanghai/part_A_final/test_data/images/IMG_109.jpg',\n",
       " '/home/zz2496/Notebooks/CSRNet/shanghai/part_A_final/test_data/images/IMG_14.jpg',\n",
       " '/home/zz2496/Notebooks/CSRNet/shanghai/part_A_final/test_data/images/IMG_7.jpg',\n",
       " '/home/zz2496/Notebooks/CSRNet/shanghai/part_A_final/test_data/images/IMG_90.jpg',\n",
       " '/home/zz2496/Notebooks/CSRNet/shanghai/part_A_final/test_data/images/IMG_171.jpg',\n",
       " '/home/zz2496/Notebooks/CSRNet/shanghai/part_A_final/test_data/images/IMG_156.jpg',\n",
       " '/home/zz2496/Notebooks/CSRNet/shanghai/part_A_final/test_data/images/IMG_101.jpg',\n",
       " '/home/zz2496/Notebooks/CSRNet/shanghai/part_A_final/test_data/images/IMG_131.jpg',\n",
       " '/home/zz2496/Notebooks/CSRNet/shanghai/part_A_final/test_data/images/IMG_61.jpg',\n",
       " '/home/zz2496/Notebooks/CSRNet/shanghai/part_A_final/test_data/images/IMG_161.jpg',\n",
       " '/home/zz2496/Notebooks/CSRNet/shanghai/part_A_final/test_data/images/IMG_148.jpg',\n",
       " '/home/zz2496/Notebooks/CSRNet/shanghai/part_A_final/test_data/images/IMG_116.jpg',\n",
       " '/home/zz2496/Notebooks/CSRNet/shanghai/part_A_final/test_data/images/IMG_128.jpg',\n",
       " '/home/zz2496/Notebooks/CSRNet/shanghai/part_A_final/test_data/images/IMG_118.jpg',\n",
       " '/home/zz2496/Notebooks/CSRNet/shanghai/part_A_final/test_data/images/IMG_174.jpg',\n",
       " '/home/zz2496/Notebooks/CSRNet/shanghai/part_A_final/test_data/images/IMG_144.jpg',\n",
       " '/home/zz2496/Notebooks/CSRNet/shanghai/part_A_final/test_data/images/IMG_68.jpg',\n",
       " '/home/zz2496/Notebooks/CSRNet/shanghai/part_A_final/test_data/images/IMG_180.jpg']"
      ]
     },
     "execution_count": 10,
     "metadata": {},
     "output_type": "execute_result"
    }
   ],
   "source": [
    "img_paths"
   ]
  },
  {
   "cell_type": "code",
   "execution_count": 11,
   "metadata": {},
   "outputs": [],
   "source": [
    "model = ResNet(BasicBlock, [2, 2, 2, 2])"
   ]
  },
  {
   "cell_type": "code",
   "execution_count": 12,
   "metadata": {},
   "outputs": [],
   "source": [
    "model = model.cuda()"
   ]
  },
  {
   "cell_type": "code",
   "execution_count": 14,
   "metadata": {},
   "outputs": [
    {
     "ename": "IOError",
     "evalue": "[Errno 2] No such file or directory: '0shanghai_resnet18_final.pth.tar'",
     "output_type": "error",
     "traceback": [
      "\u001b[0;31m---------------------------------------------------------------------------\u001b[0m",
      "\u001b[0;31mIOError\u001b[0m                                   Traceback (most recent call last)",
      "\u001b[0;32m<ipython-input-14-cab18ddd51ac>\u001b[0m in \u001b[0;36m<module>\u001b[0;34m()\u001b[0m\n\u001b[0;32m----> 1\u001b[0;31m \u001b[0mcheckpoint\u001b[0m \u001b[0;34m=\u001b[0m \u001b[0mtorch\u001b[0m\u001b[0;34m.\u001b[0m\u001b[0mload\u001b[0m\u001b[0;34m(\u001b[0m\u001b[0;34m'0shanghai_resnet18_final.pth.tar'\u001b[0m\u001b[0;34m)\u001b[0m\u001b[0;34m\u001b[0m\u001b[0m\n\u001b[0m",
      "\u001b[0;32m/home/zz2496/anaconda2/lib/python2.7/site-packages/torch/serialization.pyc\u001b[0m in \u001b[0;36mload\u001b[0;34m(f, map_location, pickle_module)\u001b[0m\n\u001b[1;32m    354\u001b[0m             \u001b[0;34m(\u001b[0m\u001b[0msys\u001b[0m\u001b[0;34m.\u001b[0m\u001b[0mversion_info\u001b[0m\u001b[0;34m[\u001b[0m\u001b[0;36m0\u001b[0m\u001b[0;34m]\u001b[0m \u001b[0;34m==\u001b[0m \u001b[0;36m3\u001b[0m \u001b[0;32mand\u001b[0m \u001b[0misinstance\u001b[0m\u001b[0;34m(\u001b[0m\u001b[0mf\u001b[0m\u001b[0;34m,\u001b[0m \u001b[0mpathlib\u001b[0m\u001b[0;34m.\u001b[0m\u001b[0mPath\u001b[0m\u001b[0;34m)\u001b[0m\u001b[0;34m)\u001b[0m\u001b[0;34m:\u001b[0m\u001b[0;34m\u001b[0m\u001b[0m\n\u001b[1;32m    355\u001b[0m         \u001b[0mnew_fd\u001b[0m \u001b[0;34m=\u001b[0m \u001b[0mTrue\u001b[0m\u001b[0;34m\u001b[0m\u001b[0m\n\u001b[0;32m--> 356\u001b[0;31m         \u001b[0mf\u001b[0m \u001b[0;34m=\u001b[0m \u001b[0mopen\u001b[0m\u001b[0;34m(\u001b[0m\u001b[0mf\u001b[0m\u001b[0;34m,\u001b[0m \u001b[0;34m'rb'\u001b[0m\u001b[0;34m)\u001b[0m\u001b[0;34m\u001b[0m\u001b[0m\n\u001b[0m\u001b[1;32m    357\u001b[0m     \u001b[0;32mtry\u001b[0m\u001b[0;34m:\u001b[0m\u001b[0;34m\u001b[0m\u001b[0m\n\u001b[1;32m    358\u001b[0m         \u001b[0;32mreturn\u001b[0m \u001b[0m_load\u001b[0m\u001b[0;34m(\u001b[0m\u001b[0mf\u001b[0m\u001b[0;34m,\u001b[0m \u001b[0mmap_location\u001b[0m\u001b[0;34m,\u001b[0m \u001b[0mpickle_module\u001b[0m\u001b[0;34m)\u001b[0m\u001b[0;34m\u001b[0m\u001b[0m\n",
      "\u001b[0;31mIOError\u001b[0m: [Errno 2] No such file or directory: '0shanghai_resnet18_final.pth.tar'"
     ]
    }
   ],
   "source": [
    "checkpoint = torch.load('0shanghai_resnet18_final.pth.tar')"
   ]
  },
  {
   "cell_type": "code",
   "execution_count": 22,
   "metadata": {},
   "outputs": [],
   "source": [
    "model.load_state_dict(checkpoint['state_dict'])"
   ]
  },
  {
   "cell_type": "code",
   "execution_count": 49,
   "metadata": {},
   "outputs": [],
   "source": [
    "#img = 255.0 * F.to_tensor(Image.open(img_paths[0]).convert('RGB'))"
   ]
  },
  {
   "cell_type": "code",
   "execution_count": 27,
   "metadata": {
    "scrolled": true
   },
   "outputs": [
    {
     "name": "stdout",
     "output_type": "stream",
     "text": [
      "Resnet18_23\n",
      "0 1471.233154296875\n",
      "1 1473.0688095092773\n",
      "736.5344047546387\n"
     ]
    }
   ],
   "source": [
    "mae = 0\n",
    "for i in xrange(len(img_paths)):\n",
    "#    img = 255.0 * F.to_tensor(Image.open(img_paths[i]).convert('RGB'))\n",
    "#    img[0,:,:]=img[0,:,:]-92.8207477031\n",
    "#    img[1,:,:]=img[1,:,:]-95.2757037428\n",
    "#    img[2,:,:]=img[2,:,:]-104.877445883 #Q7: what are these? #change to imagenet mean\n",
    "#    img = img.cuda()\n",
    "    img = transform(Image.open(img_paths[i]).convert('RGB')).cuda()\n",
    "    gt_file = h5py.File(img_paths[i].replace('.jpg','.h5').replace('images','ground_truth'),'r')\n",
    "    groundtruth = np.asarray(gt_file['density'])\n",
    "    output = model(img.unsqueeze(0))\n",
    "    mae += abs(output.detach().cpu().sum().numpy()-np.sum(groundtruth))\n",
    "    print i,mae\n",
    "print mae/len(img_paths)"
   ]
  }
 ],
 "metadata": {
  "kernelspec": {
   "display_name": "Python 2",
   "language": "python",
   "name": "python2"
  },
  "language_info": {
   "codemirror_mode": {
    "name": "ipython",
    "version": 2
   },
   "file_extension": ".py",
   "mimetype": "text/x-python",
   "name": "python",
   "nbconvert_exporter": "python",
   "pygments_lexer": "ipython2",
   "version": "2.7.15"
  }
 },
 "nbformat": 4,
 "nbformat_minor": 2
}
