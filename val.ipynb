{
 "cells": [
  {
   "cell_type": "code",
   "execution_count": 1,
   "metadata": {},
   "outputs": [],
   "source": [
    "import h5py\n",
    "import scipy.io as io\n",
    "import PIL.Image as Image\n",
    "import numpy as np\n",
    "import os\n",
    "import glob\n",
    "from matplotlib import pyplot as plt\n",
    "from scipy.ndimage.filters import gaussian_filter \n",
    "import scipy\n",
    "import json\n",
    "import torchvision.transforms.functional as F\n",
    "from matplotlib import cm as CM\n",
    "from image import *\n",
    "from model import CSRNet\n",
    "import torch\n",
    "from ResNet import *\n",
    "%matplotlib inline"
   ]
  },
  {
   "cell_type": "code",
   "execution_count": 2,
   "metadata": {},
   "outputs": [],
   "source": [
    "from torchvision import datasets, transforms\n",
    "transform=transforms.Compose([\n",
    "                       transforms.ToTensor(),transforms.Normalize(mean=[0.485, 0.456, 0.406],\n",
    "                                     std=[0.229, 0.224, 0.225]),\n",
    "                   ])"
   ]
  },
  {
   "cell_type": "code",
   "execution_count": 3,
   "metadata": {},
   "outputs": [],
   "source": [
    "#root = r'/home/zz2496/Notebooks/CSRNet/shanghai'\n",
    "root = r'/home/zz2496/Notebooks/CSRNet/UCF'"
   ]
  },
  {
   "cell_type": "code",
   "execution_count": 4,
   "metadata": {},
   "outputs": [],
   "source": [
    "#now generate the ShanghaiA's ground truth\n",
    "#part_A_train = os.path.join(root,'part_A_final/train_data','images')\n",
    "#part_A_test = os.path.join(root,'part_A_final/test_data','images')\n",
    "#part_B_train = os.path.join(root,'part_B_final/train_data','images')\n",
    "#part_B_test = os.path.join(root,'part_B_final/test_data','images')\n",
    "#path_sets = [part_A_test]"
   ]
  },
  {
   "cell_type": "code",
   "execution_count": 5,
   "metadata": {},
   "outputs": [],
   "source": [
    "#train = os.path.join(root,'train_data','images')\n",
    "test = os.path.join(root,'test_data','images')\n",
    "path_sets = [test]"
   ]
  },
  {
   "cell_type": "code",
   "execution_count": 6,
   "metadata": {},
   "outputs": [],
   "source": [
    "img_paths = []\n",
    "for path in path_sets:\n",
    "    for img_path in glob.glob(os.path.join(path, '*.jpg')):\n",
    "        img_paths.append(img_path)"
   ]
  },
  {
   "cell_type": "code",
   "execution_count": 7,
   "metadata": {},
   "outputs": [],
   "source": [
    "#train = os.path.join(root,'train_data','images')\n",
    "#test = "
   ]
  },
  {
   "cell_type": "code",
   "execution_count": 8,
   "metadata": {},
   "outputs": [
    {
     "data": {
      "text/plain": [
       "['/home/zz2496/Notebooks/CSRNet/UCF/test_data/images/46.jpg',\n",
       " '/home/zz2496/Notebooks/CSRNet/UCF/test_data/images/45.jpg',\n",
       " '/home/zz2496/Notebooks/CSRNet/UCF/test_data/images/47.jpg',\n",
       " '/home/zz2496/Notebooks/CSRNet/UCF/test_data/images/42.jpg',\n",
       " '/home/zz2496/Notebooks/CSRNet/UCF/test_data/images/44.jpg',\n",
       " '/home/zz2496/Notebooks/CSRNet/UCF/test_data/images/43.jpg',\n",
       " '/home/zz2496/Notebooks/CSRNet/UCF/test_data/images/49.jpg',\n",
       " '/home/zz2496/Notebooks/CSRNet/UCF/test_data/images/41.jpg',\n",
       " '/home/zz2496/Notebooks/CSRNet/UCF/test_data/images/48.jpg',\n",
       " '/home/zz2496/Notebooks/CSRNet/UCF/test_data/images/50.jpg']"
      ]
     },
     "execution_count": 8,
     "metadata": {},
     "output_type": "execute_result"
    }
   ],
   "source": [
    "img_paths"
   ]
  },
  {
   "cell_type": "code",
   "execution_count": 9,
   "metadata": {},
   "outputs": [],
   "source": [
    "#model = CSRNet()\n",
    "model = ResNet(BasicBlock, [3, 4, 6, 3])"
   ]
  },
  {
   "cell_type": "code",
   "execution_count": 10,
   "metadata": {},
   "outputs": [],
   "source": [
    "model = model.cuda()"
   ]
  },
  {
   "cell_type": "code",
   "execution_count": 11,
   "metadata": {},
   "outputs": [],
   "source": [
    "checkpoint = torch.load('0model_best_UCF_res.pth.tar')"
   ]
  },
  {
   "cell_type": "code",
   "execution_count": 12,
   "metadata": {},
   "outputs": [],
   "source": [
    "model.load_state_dict(checkpoint['state_dict'])"
   ]
  },
  {
   "cell_type": "code",
   "execution_count": 13,
   "metadata": {},
   "outputs": [],
   "source": [
    "#img = 255.0 * F.to_tensor(Image.open(img_paths[0]).convert('RGB'))"
   ]
  },
  {
   "cell_type": "code",
   "execution_count": 14,
   "metadata": {
    "scrolled": true
   },
   "outputs": [
    {
     "name": "stdout",
     "output_type": "stream",
     "text": [
      "0 44.8111572265625\n",
      "1 168.829833984375\n",
      "2 543.1644287109375\n",
      "3 595.6698303222656\n",
      "4 749.7125549316406\n",
      "5 1348.8564758300781\n",
      "6 1615.1889343261719\n",
      "7 1633.8735046386719\n",
      "8 2294.9156188964844\n",
      "9 2450.547607421875\n",
      "245.0547607421875\n"
     ]
    }
   ],
   "source": [
    "mae = 0\n",
    "for i in xrange(len(img_paths)):\n",
    "#    img = 255.0 * F.to_tensor(Image.open(img_paths[i]).convert('RGB'))\n",
    "#    img[0,:,:]=img[0,:,:]-92.8207477031\n",
    "#    img[1,:,:]=img[1,:,:]-95.2757037428\n",
    "#    img[2,:,:]=img[2,:,:]-104.877445883 #Q7: what are these? #change to imagenet mean\n",
    "#    img = img.cuda()\n",
    "    img = transform(Image.open(img_paths[i]).convert('RGB')).cuda()\n",
    "    gt_file = h5py.File(img_paths[i].replace('.jpg','.h5').replace('images','ground_truth'),'r')\n",
    "    groundtruth = np.asarray(gt_file['density'])\n",
    "    output = model(img.unsqueeze(0))\n",
    "    mae += abs(output.detach().cpu().sum().numpy()-np.sum(groundtruth))\n",
    "    print i,mae\n",
    "print mae/len(img_paths)"
   ]
  },
  {
   "cell_type": "code",
   "execution_count": 16,
   "metadata": {},
   "outputs": [
    {
     "data": {
      "text/plain": [
       "['/home/zz2496/Notebooks/CSRNet/UCF/test_data/images/46.jpg',\n",
       " '/home/zz2496/Notebooks/CSRNet/UCF/test_data/images/45.jpg',\n",
       " '/home/zz2496/Notebooks/CSRNet/UCF/test_data/images/47.jpg',\n",
       " '/home/zz2496/Notebooks/CSRNet/UCF/test_data/images/42.jpg',\n",
       " '/home/zz2496/Notebooks/CSRNet/UCF/test_data/images/44.jpg',\n",
       " '/home/zz2496/Notebooks/CSRNet/UCF/test_data/images/43.jpg',\n",
       " '/home/zz2496/Notebooks/CSRNet/UCF/test_data/images/49.jpg',\n",
       " '/home/zz2496/Notebooks/CSRNet/UCF/test_data/images/41.jpg',\n",
       " '/home/zz2496/Notebooks/CSRNet/UCF/test_data/images/48.jpg',\n",
       " '/home/zz2496/Notebooks/CSRNet/UCF/test_data/images/50.jpg']"
      ]
     },
     "execution_count": 16,
     "metadata": {},
     "output_type": "execute_result"
    }
   ],
   "source": [
    "glob.glob(os.path.join(test, '*.jpg'))"
   ]
  },
  {
   "cell_type": "code",
   "execution_count": 18,
   "metadata": {},
   "outputs": [
    {
     "name": "stdout",
     "output_type": "stream",
     "text": [
      "1366\n",
      "1451\n",
      "1961\n",
      "329\n",
      "2358\n",
      "947\n",
      "588\n",
      "1284\n",
      "2372\n",
      "440\n"
     ]
    }
   ],
   "source": [
    "a = []\n",
    "for gd in glob.glob(os.path.join(test, '*.jpg')):\n",
    "    mat = io.loadmat(gd.replace('.jpg','_ann.mat').replace('images','ground_truth'))\n",
    "    a.append(len(mat['annPoints']))\n",
    "    print(len(mat['annPoints']))\n"
   ]
  },
  {
   "cell_type": "code",
   "execution_count": 22,
   "metadata": {},
   "outputs": [
    {
     "data": {
      "text/plain": [
       "1309.6"
      ]
     },
     "execution_count": 22,
     "metadata": {},
     "output_type": "execute_result"
    }
   ],
   "source": [
    "np.mean(a)"
   ]
  },
  {
   "cell_type": "code",
   "execution_count": null,
   "metadata": {},
   "outputs": [],
   "source": []
  }
 ],
 "metadata": {
  "kernelspec": {
   "display_name": "Python 2",
   "language": "python",
   "name": "python2"
  },
  "language_info": {
   "codemirror_mode": {
    "name": "ipython",
    "version": 2
   },
   "file_extension": ".py",
   "mimetype": "text/x-python",
   "name": "python",
   "nbconvert_exporter": "python",
   "pygments_lexer": "ipython2",
   "version": "2.7.15"
  }
 },
 "nbformat": 4,
 "nbformat_minor": 2
}
