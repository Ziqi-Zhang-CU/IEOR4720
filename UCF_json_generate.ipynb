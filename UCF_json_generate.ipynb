{
 "cells": [
  {
   "cell_type": "code",
   "execution_count": 1,
   "metadata": {},
   "outputs": [],
   "source": [
    "root1 = \"/home/zz2496/Notebooks/CSRNet/UCF/train_data/images/\"\n",
    "root2 = \"/home/zz2496/Notebooks/CSRNet/UCF/test_data/images/\"\n",
    "train=[]\n",
    "val = []\n",
    "test = []\n",
    "for i in range(1,31):\n",
    "    train.append(root1+str(i)+'.jpg')\n",
    "for i in range(31,41):\n",
    "    val.append(root1+str(i)+'.jpg')\n",
    "for i in range(41,51):\n",
    "    test.append(root2+str(i)+'.jpg')\n"
   ]
  },
  {
   "cell_type": "code",
   "execution_count": 2,
   "metadata": {},
   "outputs": [
    {
     "data": {
      "text/plain": [
       "['/home/zz2496/Notebooks/CSRNet/UCF/train_data/images/1.jpg',\n",
       " '/home/zz2496/Notebooks/CSRNet/UCF/train_data/images/2.jpg',\n",
       " '/home/zz2496/Notebooks/CSRNet/UCF/train_data/images/3.jpg',\n",
       " '/home/zz2496/Notebooks/CSRNet/UCF/train_data/images/4.jpg',\n",
       " '/home/zz2496/Notebooks/CSRNet/UCF/train_data/images/5.jpg',\n",
       " '/home/zz2496/Notebooks/CSRNet/UCF/train_data/images/6.jpg',\n",
       " '/home/zz2496/Notebooks/CSRNet/UCF/train_data/images/7.jpg',\n",
       " '/home/zz2496/Notebooks/CSRNet/UCF/train_data/images/8.jpg',\n",
       " '/home/zz2496/Notebooks/CSRNet/UCF/train_data/images/9.jpg',\n",
       " '/home/zz2496/Notebooks/CSRNet/UCF/train_data/images/10.jpg',\n",
       " '/home/zz2496/Notebooks/CSRNet/UCF/train_data/images/11.jpg',\n",
       " '/home/zz2496/Notebooks/CSRNet/UCF/train_data/images/12.jpg',\n",
       " '/home/zz2496/Notebooks/CSRNet/UCF/train_data/images/13.jpg',\n",
       " '/home/zz2496/Notebooks/CSRNet/UCF/train_data/images/14.jpg',\n",
       " '/home/zz2496/Notebooks/CSRNet/UCF/train_data/images/15.jpg',\n",
       " '/home/zz2496/Notebooks/CSRNet/UCF/train_data/images/16.jpg',\n",
       " '/home/zz2496/Notebooks/CSRNet/UCF/train_data/images/17.jpg',\n",
       " '/home/zz2496/Notebooks/CSRNet/UCF/train_data/images/18.jpg',\n",
       " '/home/zz2496/Notebooks/CSRNet/UCF/train_data/images/19.jpg',\n",
       " '/home/zz2496/Notebooks/CSRNet/UCF/train_data/images/20.jpg',\n",
       " '/home/zz2496/Notebooks/CSRNet/UCF/train_data/images/21.jpg',\n",
       " '/home/zz2496/Notebooks/CSRNet/UCF/train_data/images/22.jpg',\n",
       " '/home/zz2496/Notebooks/CSRNet/UCF/train_data/images/23.jpg',\n",
       " '/home/zz2496/Notebooks/CSRNet/UCF/train_data/images/24.jpg',\n",
       " '/home/zz2496/Notebooks/CSRNet/UCF/train_data/images/25.jpg',\n",
       " '/home/zz2496/Notebooks/CSRNet/UCF/train_data/images/26.jpg',\n",
       " '/home/zz2496/Notebooks/CSRNet/UCF/train_data/images/27.jpg',\n",
       " '/home/zz2496/Notebooks/CSRNet/UCF/train_data/images/28.jpg',\n",
       " '/home/zz2496/Notebooks/CSRNet/UCF/train_data/images/29.jpg',\n",
       " '/home/zz2496/Notebooks/CSRNet/UCF/train_data/images/30.jpg']"
      ]
     },
     "execution_count": 2,
     "metadata": {},
     "output_type": "execute_result"
    }
   ],
   "source": [
    "train"
   ]
  },
  {
   "cell_type": "code",
   "execution_count": 3,
   "metadata": {},
   "outputs": [
    {
     "data": {
      "text/plain": [
       "['/home/zz2496/Notebooks/CSRNet/UCF/train_data/images/31.jpg',\n",
       " '/home/zz2496/Notebooks/CSRNet/UCF/train_data/images/32.jpg',\n",
       " '/home/zz2496/Notebooks/CSRNet/UCF/train_data/images/33.jpg',\n",
       " '/home/zz2496/Notebooks/CSRNet/UCF/train_data/images/34.jpg',\n",
       " '/home/zz2496/Notebooks/CSRNet/UCF/train_data/images/35.jpg',\n",
       " '/home/zz2496/Notebooks/CSRNet/UCF/train_data/images/36.jpg',\n",
       " '/home/zz2496/Notebooks/CSRNet/UCF/train_data/images/37.jpg',\n",
       " '/home/zz2496/Notebooks/CSRNet/UCF/train_data/images/38.jpg',\n",
       " '/home/zz2496/Notebooks/CSRNet/UCF/train_data/images/39.jpg',\n",
       " '/home/zz2496/Notebooks/CSRNet/UCF/train_data/images/40.jpg']"
      ]
     },
     "execution_count": 3,
     "metadata": {},
     "output_type": "execute_result"
    }
   ],
   "source": [
    "val"
   ]
  },
  {
   "cell_type": "code",
   "execution_count": 4,
   "metadata": {},
   "outputs": [
    {
     "data": {
      "text/plain": [
       "['/home/zz2496/Notebooks/CSRNet/UCF/test_data/images/41.jpg',\n",
       " '/home/zz2496/Notebooks/CSRNet/UCF/test_data/images/42.jpg',\n",
       " '/home/zz2496/Notebooks/CSRNet/UCF/test_data/images/43.jpg',\n",
       " '/home/zz2496/Notebooks/CSRNet/UCF/test_data/images/44.jpg',\n",
       " '/home/zz2496/Notebooks/CSRNet/UCF/test_data/images/45.jpg',\n",
       " '/home/zz2496/Notebooks/CSRNet/UCF/test_data/images/46.jpg',\n",
       " '/home/zz2496/Notebooks/CSRNet/UCF/test_data/images/47.jpg',\n",
       " '/home/zz2496/Notebooks/CSRNet/UCF/test_data/images/48.jpg',\n",
       " '/home/zz2496/Notebooks/CSRNet/UCF/test_data/images/49.jpg',\n",
       " '/home/zz2496/Notebooks/CSRNet/UCF/test_data/images/50.jpg']"
      ]
     },
     "execution_count": 4,
     "metadata": {},
     "output_type": "execute_result"
    }
   ],
   "source": [
    "test"
   ]
  }
 ],
 "metadata": {
  "kernelspec": {
   "display_name": "Python 2",
   "language": "python",
   "name": "python2"
  },
  "language_info": {
   "codemirror_mode": {
    "name": "ipython",
    "version": 2
   },
   "file_extension": ".py",
   "mimetype": "text/x-python",
   "name": "python",
   "nbconvert_exporter": "python",
   "pygments_lexer": "ipython2",
   "version": "2.7.15"
  }
 },
 "nbformat": 4,
 "nbformat_minor": 2
}
